{
 "cells": [
  {
   "cell_type": "markdown",
   "metadata": {},
   "source": [
    "# Classes and Objects"
   ]
  },
  {
   "cell_type": "code",
   "execution_count": 1,
   "metadata": {},
   "outputs": [],
   "source": [
    "# (CORE) DEVELOPER MINDSET\n",
    "\n",
    "class Employee:\n",
    "\n",
    "    # Class variables\n",
    "    empCount = 0\n",
    "\n",
    "    # Constructor and Data Intialization\n",
    "    def __init__(self, n, company, salary):\n",
    "        self.name = n\n",
    "        self.company = company\n",
    "        self.salary = salary\n",
    "        self.tax = 0\n",
    "        Employee.empCount += 1\n",
    "\n",
    "    # Functions\n",
    "    def printinfo(self):\n",
    "        print(self.name.upper())\n",
    "        print('-'*30)\n",
    "        print('COMPANY    :', self.company)\n",
    "        print('SALARY     :', self.salary)\n",
    "        print('TAX        :', self.tax)\n",
    "        print('\\n\\n')\n",
    "\n",
    "    def setsalary(self, newsalary):\n",
    "        self.salary = newsalary\n",
    "        self.calctax()\n",
    "\n",
    "    def getsalary(self):\n",
    "        return self.salary\n",
    "\n",
    "    def calctax(self):\n",
    "        self.tax = 0.1 * float(self.salary.split()[0])\n"
   ]
  },
  {
   "cell_type": "code",
   "execution_count": 2,
   "metadata": {},
   "outputs": [],
   "source": [
    "# USER/APP DEVELOPER"
   ]
  },
  {
   "cell_type": "code",
   "execution_count": null,
   "metadata": {},
   "outputs": [],
   "source": []
  }
 ],
 "metadata": {
  "kernelspec": {
   "display_name": "Python 3",
   "language": "python",
   "name": "python3"
  },
  "language_info": {
   "codemirror_mode": {
    "name": "ipython",
    "version": 3
   },
   "file_extension": ".py",
   "mimetype": "text/x-python",
   "name": "python",
   "nbconvert_exporter": "python",
   "pygments_lexer": "ipython3",
   "version": "3.7.3"
  }
 },
 "nbformat": 4,
 "nbformat_minor": 2
}
