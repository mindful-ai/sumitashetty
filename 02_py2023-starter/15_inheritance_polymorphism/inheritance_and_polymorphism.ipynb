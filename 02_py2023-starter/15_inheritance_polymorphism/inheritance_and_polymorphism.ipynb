{
 "cells": [
  {
   "cell_type": "markdown",
   "metadata": {},
   "source": [
    "# Inheritance and Polymorphism"
   ]
  },
  {
   "cell_type": "code",
   "execution_count": 1,
   "metadata": {},
   "outputs": [],
   "source": [
    "class Employee:\n",
    "\n",
    "    # Class variables\n",
    "    empCount = 0\n",
    "\n",
    "    # Constructor and Data Intialization\n",
    "    def __init__(self, n, company, salary):\n",
    "        self.name = n\n",
    "        self.company = company\n",
    "        self.salary = salary\n",
    "        self.tax = 0\n",
    "        Employee.empCount += 1\n",
    "\n",
    "    # Functions\n",
    "    def printinfo(self):\n",
    "        print(self.name.upper())\n",
    "        print('-'*30)\n",
    "        print('COMPANY    :', self.company)\n",
    "        print('SALARY     :', self.salary)\n",
    "        print('TAX        :', self.tax)\n",
    "        \n",
    "\n",
    "    def setsalary(self, newsalary):\n",
    "        self.salary = newsalary\n",
    "        self.calctax()\n",
    "\n",
    "    def getsalary(self):\n",
    "        return self.salary\n",
    "\n",
    "    def calctax(self):\n",
    "        self.tax = 0.1 * float(self.salary.split()[0])\n"
   ]
  },
  {
   "cell_type": "code",
   "execution_count": 2,
   "metadata": {},
   "outputs": [],
   "source": [
    "# CORE DEVELOPER -> Inheritance\n",
    "\n",
    "class newemp(Employee):\n",
    "    pass"
   ]
  },
  {
   "cell_type": "code",
   "execution_count": 3,
   "metadata": {},
   "outputs": [],
   "source": [
    "class extEmployee(Employee):\n",
    "\n",
    "    # Class variables\n",
    "    # empCount is already available here\n",
    "\n",
    "    # Constructor and Data Initialization\n",
    "    # Supposed to distribute the data between parent and child\n",
    "    def __init__(self, n, age, company, salary):\n",
    "        super().__init__(n, company, salary)\n",
    "        self.age = age\n",
    "        self.addr = ''\n",
    "\n",
    "    # Functions\n",
    "\n",
    "    # All functions of Employee is also available here\n",
    "\n",
    "    # Overridden function\n",
    "    def printinfo(self):\n",
    "        super().printinfo()\n",
    "        print('-'*30)\n",
    "        print('AGE        :', self.age)\n",
    "        print('ADDRESS    :', self.addr)\n",
    "        print('\\n\\n')\n",
    "\n",
    "    # New functions\n",
    "    def setaddr(self, addr):\n",
    "        self.addr = addr"
   ]
  },
  {
   "cell_type": "code",
   "execution_count": null,
   "metadata": {},
   "outputs": [],
   "source": []
  }
 ],
 "metadata": {
  "kernelspec": {
   "display_name": "Python 3",
   "language": "python",
   "name": "python3"
  },
  "language_info": {
   "codemirror_mode": {
    "name": "ipython",
    "version": 3
   },
   "file_extension": ".py",
   "mimetype": "text/x-python",
   "name": "python",
   "nbconvert_exporter": "python",
   "pygments_lexer": "ipython3",
   "version": "3.7.3"
  }
 },
 "nbformat": 4,
 "nbformat_minor": 2
}
