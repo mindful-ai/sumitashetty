{
 "cells": [
  {
   "cell_type": "code",
   "execution_count": 7,
   "id": "94e5ff14",
   "metadata": {},
   "outputs": [
    {
     "name": "stdout",
     "output_type": "stream",
     "text": [
      "Hello New World!\n"
     ]
    }
   ],
   "source": [
    "print(\"Hello New World!\")"
   ]
  },
  {
   "cell_type": "code",
   "execution_count": 8,
   "id": "e7cadbc8",
   "metadata": {},
   "outputs": [
    {
     "name": "stdout",
     "output_type": "stream",
     "text": [
      "15\n"
     ]
    }
   ],
   "source": [
    "a = 5\n",
    "b = 10\n",
    "print(a + b)"
   ]
  },
  {
   "cell_type": "code",
   "execution_count": null,
   "id": "cef75492",
   "metadata": {},
   "outputs": [],
   "source": []
  },
  {
   "cell_type": "code",
   "execution_count": 9,
   "id": "0c3be94d",
   "metadata": {},
   "outputs": [
    {
     "name": "stdout",
     "output_type": "stream",
     "text": [
      "Hello New World! This is a newly pasted cell\n"
     ]
    }
   ],
   "source": [
    "print(\"Hello New World! This is a newly pasted cell\")"
   ]
  },
  {
   "cell_type": "markdown",
   "id": "b168d45b",
   "metadata": {},
   "source": [
    "This is notes"
   ]
  },
  {
   "cell_type": "markdown",
   "id": "f3120b62",
   "metadata": {},
   "source": [
    "### This is my first experiment in Jupyter Notebook"
   ]
  },
  {
   "cell_type": "markdown",
   "id": "454425fc",
   "metadata": {},
   "source": [
    "##### Develop a guess-my-number game"
   ]
  },
  {
   "cell_type": "markdown",
   "id": "6d348484",
   "metadata": {},
   "source": [
    "The computer picks a number between 1 and 100 randomly\n",
    "The user is supposed to guess the number correctly in about 10 chances"
   ]
  },
  {
   "cell_type": "markdown",
   "id": "8fa9dab5",
   "metadata": {},
   "source": [
    "<N> (45)\n",
    "\n",
    "Ramesh, you have 10 chances to guess the correct number\n",
    "\n",
    "-> 40\n",
    "Incorrect. You need to guess higher\n",
    "\n",
    "-> 55\n",
    "Incorrect. You need to guess lower\n",
    "\n",
    "-> 42\n",
    "Incorrect. You need to guess higher\n",
    "\n",
    "-> 48\n",
    "Incorrect. You need to guess lower\n",
    "\n",
    "-> 45\n",
    "Correct. \n",
    "\n",
    "Results: Ramesh, you have earned 6 points"
   ]
  },
  {
   "cell_type": "code",
   "execution_count": null,
   "id": "2db124c0",
   "metadata": {},
   "outputs": [],
   "source": []
  }
 ],
 "metadata": {
  "kernelspec": {
   "display_name": "Python 3 (ipykernel)",
   "language": "python",
   "name": "python3"
  },
  "language_info": {
   "codemirror_mode": {
    "name": "ipython",
    "version": 3
   },
   "file_extension": ".py",
   "mimetype": "text/x-python",
   "name": "python",
   "nbconvert_exporter": "python",
   "pygments_lexer": "ipython3",
   "version": "3.9.12"
  }
 },
 "nbformat": 4,
 "nbformat_minor": 5
}
